{
 "cells": [
  {
   "cell_type": "code",
   "execution_count": 11,
   "metadata": {},
   "outputs": [],
   "source": [
    "import torch\n",
    "import torch.nn as nn\n",
    "import numpy as np\n",
    "from sklearn import datasets\n",
    "from sklearn.preprocessing import StandardScaler\n",
    "from sklearn.model_selection import train_test_split"
   ]
  },
  {
   "cell_type": "code",
   "execution_count": 12,
   "metadata": {},
   "outputs": [
    {
     "name": "stdout",
     "output_type": "stream",
     "text": [
      "569 30\n"
     ]
    }
   ],
   "source": [
    "#data\n",
    "data=datasets.load_breast_cancer()\n",
    "X,Y=data.data,data.target\n",
    "n_samples,n_features=X.shape\n",
    "print(n_samples,n_features)"
   ]
  },
  {
   "cell_type": "code",
   "execution_count": 13,
   "metadata": {},
   "outputs": [],
   "source": [
    "X_train,X_test,Y_train,Y_test=train_test_split(X,Y,test_size=0.2,random_state=18)"
   ]
  },
  {
   "cell_type": "code",
   "execution_count": 14,
   "metadata": {},
   "outputs": [],
   "source": [
    "sc=StandardScaler()\n",
    "X_train=sc.fit_transform(X_train)\n",
    "X_test=sc.transform(X_test)\n",
    "\n",
    "\n",
    "X_train=torch.from_numpy(X_train.astype(np.float32))\n",
    "X_test=torch.from_numpy(X_test.astype(np.float32))\n",
    "Y_train=torch.from_numpy(Y_train.astype(np.float32))\n",
    "Y_test=torch.from_numpy(Y_test.astype(np.float32))\n",
    "\n",
    "Y_train=Y_train.view(Y_train.shape[0],1) #column vector\n",
    "Y_test=Y_test.view(Y_test.shape[0],1)"
   ]
  },
  {
   "cell_type": "code",
   "execution_count": 15,
   "metadata": {},
   "outputs": [],
   "source": [
    "#model f=wx+b\n",
    "class LogisticRegression(nn.Module):\n",
    "    def __init__(self,n_input_features):\n",
    "        super(LogisticRegression,self).__init__()\n",
    "        self.linear=nn.Linear(n_input_features,1)\n",
    "    \n",
    "    def forward(self,x):\n",
    "        y_predict=torch.sigmoid(self.linear(x))\n",
    "        return y_predict\n",
    "    \n",
    "model=LogisticRegression(n_features)"
   ]
  },
  {
   "cell_type": "code",
   "execution_count": 16,
   "metadata": {},
   "outputs": [],
   "source": [
    "learning_rate=0.01"
   ]
  },
  {
   "cell_type": "code",
   "execution_count": 17,
   "metadata": {},
   "outputs": [],
   "source": [
    "#loss and optimizer\n",
    "loss=nn.BCELoss() #binary cross entropy loss\n",
    "optimizer=torch.optim.SGD(model.parameters(),lr=learning_rate)\n"
   ]
  },
  {
   "cell_type": "code",
   "execution_count": 18,
   "metadata": {},
   "outputs": [
    {
     "name": "stdout",
     "output_type": "stream",
     "text": [
      "epoch:10,loss=0.5608439445495605\n",
      "epoch:20,loss=0.46815475821495056\n",
      "epoch:30,loss=0.40910643339157104\n",
      "epoch:40,loss=0.3679598867893219\n",
      "epoch:50,loss=0.33744096755981445\n",
      "epoch:60,loss=0.31376463174819946\n",
      "epoch:70,loss=0.29476338624954224\n",
      "epoch:80,loss=0.27910518646240234\n",
      "epoch:90,loss=0.26592570543289185\n",
      "epoch:100,loss=0.25463923811912537\n"
     ]
    }
   ],
   "source": [
    "#training loop\n",
    "num_epochs=100\n",
    "for epoch in range(num_epochs):\n",
    "    #forward pass and loss\n",
    "    Y_predict=model(X_train)\n",
    "    l=loss(Y_predict,Y_train)\n",
    "    #backward pass\n",
    "    l.backward()\n",
    "    #update weights\n",
    "    optimizer.step()\n",
    "    #zero gradients\n",
    "    optimizer.zero_grad()\n",
    "    \n",
    "    if (epoch+1)%10==0:\n",
    "        print(f'epoch:{epoch+1},loss={l.item()}')"
   ]
  },
  {
   "cell_type": "code",
   "execution_count": 19,
   "metadata": {},
   "outputs": [
    {
     "name": "stdout",
     "output_type": "stream",
     "text": [
      "accuracy=0.9122806787490845\n"
     ]
    }
   ],
   "source": [
    "#evaluate model\n",
    "with torch.no_grad():\n",
    "    Y_predicted=model(X_test)\n",
    "    Y_predicted_cls=Y_predicted.round()\n",
    "    acc=Y_predicted_cls.eq(Y_test).sum()/float(Y_test.shape[0])\n",
    "    print(f'accuracy={acc}')"
   ]
  },
  {
   "cell_type": "code",
   "execution_count": null,
   "metadata": {},
   "outputs": [],
   "source": []
  },
  {
   "cell_type": "code",
   "execution_count": null,
   "metadata": {},
   "outputs": [],
   "source": []
  }
 ],
 "metadata": {
  "kernelspec": {
   "display_name": "Python 3",
   "language": "python",
   "name": "python3"
  },
  "language_info": {
   "codemirror_mode": {
    "name": "ipython",
    "version": 3
   },
   "file_extension": ".py",
   "mimetype": "text/x-python",
   "name": "python",
   "nbconvert_exporter": "python",
   "pygments_lexer": "ipython3",
   "version": "3.11.5"
  }
 },
 "nbformat": 4,
 "nbformat_minor": 2
}
