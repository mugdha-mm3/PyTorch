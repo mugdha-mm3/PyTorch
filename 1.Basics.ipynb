{
 "cells": [
  {
   "cell_type": "code",
   "execution_count": 2,
   "metadata": {},
   "outputs": [],
   "source": [
    "import torch"
   ]
  },
  {
   "cell_type": "code",
   "execution_count": 3,
   "metadata": {},
   "outputs": [
    {
     "data": {
      "text/plain": [
       "tensor([[[[0., 0., 0.],\n",
       "          [0., 0., 0.]]],\n",
       "\n",
       "\n",
       "        [[[0., 0., 0.],\n",
       "          [0., 0., 0.]]]])"
      ]
     },
     "execution_count": 3,
     "metadata": {},
     "output_type": "execute_result"
    }
   ],
   "source": [
    "x=torch.empty(2,1,2,3)\n",
    "x"
   ]
  },
  {
   "cell_type": "code",
   "execution_count": 4,
   "metadata": {},
   "outputs": [
    {
     "data": {
      "text/plain": [
       "tensor([[0.9231, 0.1104, 0.2753],\n",
       "        [0.3135, 0.1950, 0.8566]])"
      ]
     },
     "execution_count": 4,
     "metadata": {},
     "output_type": "execute_result"
    }
   ],
   "source": [
    "x=torch.rand(2,3)\n",
    "x"
   ]
  },
  {
   "cell_type": "code",
   "execution_count": 5,
   "metadata": {},
   "outputs": [
    {
     "data": {
      "text/plain": [
       "tensor([[0., 0., 0.],\n",
       "        [0., 0., 0.]])"
      ]
     },
     "execution_count": 5,
     "metadata": {},
     "output_type": "execute_result"
    }
   ],
   "source": [
    "x=torch.zeros(2,3)\n",
    "x"
   ]
  },
  {
   "cell_type": "code",
   "execution_count": 6,
   "metadata": {},
   "outputs": [
    {
     "data": {
      "text/plain": [
       "tensor([[1., 1., 1., 1., 1.]])"
      ]
     },
     "execution_count": 6,
     "metadata": {},
     "output_type": "execute_result"
    }
   ],
   "source": [
    "x=torch.ones(1,5)\n",
    "x"
   ]
  },
  {
   "cell_type": "code",
   "execution_count": 7,
   "metadata": {},
   "outputs": [
    {
     "name": "stdout",
     "output_type": "stream",
     "text": [
      "torch.float32\n"
     ]
    }
   ],
   "source": [
    "print(x.dtype) # float bydefault"
   ]
  },
  {
   "cell_type": "code",
   "execution_count": 8,
   "metadata": {},
   "outputs": [
    {
     "name": "stdout",
     "output_type": "stream",
     "text": [
      "torch.int32\n",
      "tensor([[1, 1, 1, 1, 1]], dtype=torch.int32)\n"
     ]
    }
   ],
   "source": [
    "x=torch.ones(1,5, dtype=torch.int)\n",
    "print(x.dtype)\n",
    "print(x)\n"
   ]
  },
  {
   "cell_type": "code",
   "execution_count": 9,
   "metadata": {},
   "outputs": [
    {
     "data": {
      "text/plain": [
       "torch.Size([1, 5])"
      ]
     },
     "execution_count": 9,
     "metadata": {},
     "output_type": "execute_result"
    }
   ],
   "source": [
    "x.size() #size function"
   ]
  },
  {
   "cell_type": "code",
   "execution_count": 10,
   "metadata": {},
   "outputs": [
    {
     "data": {
      "text/plain": [
       "tensor([2.5000, 0.1000])"
      ]
     },
     "execution_count": 10,
     "metadata": {},
     "output_type": "execute_result"
    }
   ],
   "source": [
    "x=torch.tensor([2.5,0.1])\n",
    "x"
   ]
  },
  {
   "cell_type": "code",
   "execution_count": 11,
   "metadata": {},
   "outputs": [
    {
     "name": "stdout",
     "output_type": "stream",
     "text": [
      "tensor([[0.3897, 0.3478],\n",
      "        [0.8326, 0.3836]])\n",
      "tensor([[0.9345, 0.5642],\n",
      "        [0.5520, 0.1617]])\n",
      "tensor([[1.3242, 0.9120],\n",
      "        [1.3847, 0.5452]])\n",
      "tensor([[1.3242, 0.9120],\n",
      "        [1.3847, 0.5452]])\n",
      "tensor([[1.3242, 0.9120],\n",
      "        [1.3847, 0.5452]])\n"
     ]
    }
   ],
   "source": [
    "x=torch.rand(2,2)\n",
    "y=torch.rand(2,2)\n",
    "z=x+y #way1\n",
    "print(x)\n",
    "print(y)\n",
    "print(z)\n",
    "z2=torch.add(x,y) #way2\n",
    "print(z2)\n",
    "y.add_(x) #inplace addition(way3)\n",
    "print(y)"
   ]
  },
  {
   "cell_type": "code",
   "execution_count": 12,
   "metadata": {},
   "outputs": [
    {
     "name": "stdout",
     "output_type": "stream",
     "text": [
      "tensor([[0.6806, 0.1795],\n",
      "        [0.6962, 0.2163]])\n",
      "tensor([[0.1167, 0.2540],\n",
      "        [0.7000, 0.5610]])\n",
      "tensor([[ 0.5638, -0.0745],\n",
      "        [-0.0038, -0.3448]])\n",
      "tensor([[ 0.5638, -0.0745],\n",
      "        [-0.0038, -0.3448]])\n",
      "tensor([[-0.5638,  0.0745],\n",
      "        [ 0.0038,  0.3448]])\n"
     ]
    }
   ],
   "source": [
    "x=torch.rand(2,2)\n",
    "y=torch.rand(2,2)\n",
    "z=x-y #way1\n",
    "print(x)\n",
    "print(y)\n",
    "print(z)\n",
    "z2=torch.sub(x,y) #way2\n",
    "print(z2)\n",
    "y.sub_(x) #inplace sub(way3)\n",
    "print(y)"
   ]
  },
  {
   "cell_type": "code",
   "execution_count": 13,
   "metadata": {},
   "outputs": [
    {
     "name": "stdout",
     "output_type": "stream",
     "text": [
      "tensor([[0.0314, 0.9852],\n",
      "        [0.5910, 0.1910]])\n",
      "tensor([[0.9168, 0.6766],\n",
      "        [0.5357, 0.4041]])\n",
      "tensor([[0.0288, 0.6666],\n",
      "        [0.3166, 0.0772]])\n",
      "tensor([[0.0288, 0.6666],\n",
      "        [0.3166, 0.0772]])\n",
      "tensor([[0.0288, 0.6666],\n",
      "        [0.3166, 0.0772]])\n"
     ]
    }
   ],
   "source": [
    "x=torch.rand(2,2)\n",
    "y=torch.rand(2,2)\n",
    "z=x*y #way1\n",
    "print(x)\n",
    "print(y)\n",
    "print(z)\n",
    "z2=torch.mul(x,y) #way2\n",
    "print(z2)\n",
    "y.mul_(x) #inplace mul(way3)\n",
    "print(y)"
   ]
  },
  {
   "cell_type": "code",
   "execution_count": 14,
   "metadata": {},
   "outputs": [
    {
     "name": "stdout",
     "output_type": "stream",
     "text": [
      "tensor([[0.3768, 0.0301],\n",
      "        [0.9697, 0.7750]])\n",
      "tensor([[0.1176, 0.1402],\n",
      "        [0.0044, 0.9851]])\n",
      "tensor([[3.2032e+00, 2.1450e-01],\n",
      "        [2.1973e+02, 7.8672e-01]])\n",
      "tensor([[3.2032e+00, 2.1450e-01],\n",
      "        [2.1973e+02, 7.8672e-01]])\n",
      "tensor([[3.2032e+00, 2.1450e-01],\n",
      "        [2.1973e+02, 7.8672e-01]])\n"
     ]
    }
   ],
   "source": [
    "x=torch.rand(2,2)\n",
    "y=torch.rand(2,2)\n",
    "z=x/y #way1\n",
    "print(x)\n",
    "print(y)\n",
    "print(z)\n",
    "z2=torch.div(x,y) #way2\n",
    "print(z2)\n",
    "x.div_(y) #inplace div(way3)\n",
    "print(x)"
   ]
  },
  {
   "cell_type": "code",
   "execution_count": 15,
   "metadata": {},
   "outputs": [
    {
     "name": "stdout",
     "output_type": "stream",
     "text": [
      "tensor([[0.8723, 0.2837, 0.5677],\n",
      "        [0.5317, 0.8001, 0.5562],\n",
      "        [0.4868, 0.7704, 0.1911],\n",
      "        [0.8673, 0.8440, 0.7412],\n",
      "        [0.6308, 0.4134, 0.3169]])\n",
      "tensor([0.8723, 0.5317, 0.4868, 0.8673, 0.6308])\n",
      "tensor(0.8001)\n",
      "0.8001161217689514\n"
     ]
    }
   ],
   "source": [
    "x=torch.rand(5,3)\n",
    "print(x)\n",
    "print(x[:,0]) #all rows of 0th column\n",
    "print(x[1,1]) #1st row 1st column\n",
    "print(x[1,1].item()) #1st row 1st column value(item-single value output)\n"
   ]
  },
  {
   "cell_type": "code",
   "execution_count": 16,
   "metadata": {},
   "outputs": [
    {
     "name": "stdout",
     "output_type": "stream",
     "text": [
      "tensor([[0.1757, 0.6713, 0.0601, 0.7643],\n",
      "        [0.0206, 0.3901, 0.7960, 0.6083],\n",
      "        [0.1174, 0.4860, 0.4456, 0.5613],\n",
      "        [0.0028, 0.1528, 0.1427, 0.3767]])\n",
      "tensor([0.1757, 0.6713, 0.0601, 0.7643, 0.0206, 0.3901, 0.7960, 0.6083, 0.1174,\n",
      "        0.4860, 0.4456, 0.5613, 0.0028, 0.1528, 0.1427, 0.3767])\n",
      "torch.Size([16])\n",
      "torch.Size([16])\n",
      "tensor([[0.1757, 0.6713, 0.0601, 0.7643, 0.0206, 0.3901, 0.7960, 0.6083],\n",
      "        [0.1174, 0.4860, 0.4456, 0.5613, 0.0028, 0.1528, 0.1427, 0.3767]])\n",
      "torch.Size([2, 8])\n",
      "torch.Size([2, 8])\n"
     ]
    }
   ],
   "source": [
    "x=torch.rand(4,4)\n",
    "print(x)\n",
    "y=x.view(16) #reshaping\n",
    "print(y)\n",
    "print(y.size())\n",
    "print(y.shape)\n",
    "y=x.view(-1,8) #reshaping.. -1 means automatically calculate\n",
    "print(y)\n",
    "print(y.size())\n",
    "print(y.shape)"
   ]
  },
  {
   "cell_type": "code",
   "execution_count": 17,
   "metadata": {},
   "outputs": [],
   "source": [
    "import numpy as np"
   ]
  },
  {
   "cell_type": "code",
   "execution_count": 18,
   "metadata": {},
   "outputs": [
    {
     "name": "stdout",
     "output_type": "stream",
     "text": [
      "tensor([1., 1., 1., 1., 1.])\n",
      "<class 'torch.Tensor'>\n",
      "[1. 1. 1. 1. 1.]\n",
      "<class 'numpy.ndarray'>\n",
      "[5. 5. 5. 5. 5.]\n",
      "tensor([5., 5., 5., 5., 5.])\n"
     ]
    }
   ],
   "source": [
    "a=torch.ones(5)\n",
    "print(a)\n",
    "print(type(a))\n",
    "b=a.numpy()\n",
    "print(b)\n",
    "print(type(b))\n",
    "#tensor is in CPU and not GPU, then both objects share same memory location\n",
    "#changing numpy array will change tensor\n",
    "#changing tensor will change numpy array\n",
    "a.add_(4)\n",
    "print(b)\n",
    "print(a)"
   ]
  },
  {
   "cell_type": "code",
   "execution_count": 19,
   "metadata": {},
   "outputs": [
    {
     "name": "stdout",
     "output_type": "stream",
     "text": [
      "[1. 1. 1. 1. 1.]\n",
      "<class 'numpy.ndarray'>\n",
      "tensor([1., 1., 1., 1., 1.], dtype=torch.float64)\n",
      "<class 'torch.Tensor'>\n"
     ]
    }
   ],
   "source": [
    "a=np.ones(5)\n",
    "print(a)\n",
    "print(type(a))\n",
    "b=torch.from_numpy(a)\n",
    "print(b)\n",
    "print(type(b))"
   ]
  },
  {
   "cell_type": "code",
   "execution_count": 20,
   "metadata": {},
   "outputs": [
    {
     "data": {
      "text/plain": [
       "False"
      ]
     },
     "execution_count": 20,
     "metadata": {},
     "output_type": "execute_result"
    }
   ],
   "source": [
    "torch.cuda.is_available()"
   ]
  },
  {
   "cell_type": "code",
   "execution_count": 21,
   "metadata": {},
   "outputs": [],
   "source": [
    "if torch.cuda.is_available():\n",
    "    device=torch.device(\"cuda\")\n",
    "    x=torch.ones(5,device=device)\n",
    "    y=torch.ones(5)\n",
    "    y=y.to(device)\n",
    "    z=x+y\n",
    "    print(z)\n",
    "    print(z.to(\"cpu\",torch.double))\n",
    "    z=z.to(\"cpu\",torch.double)"
   ]
  },
  {
   "cell_type": "code",
   "execution_count": 22,
   "metadata": {},
   "outputs": [
    {
     "name": "stdout",
     "output_type": "stream",
     "text": [
      "tensor([1., 1., 1., 1., 1.], requires_grad=True)\n"
     ]
    }
   ],
   "source": [
    "x=torch.ones(5,requires_grad=True) \n",
    "#Tells pytorch to calculate gradients for this tensor later during optimization steps.\n",
    "print(x)"
   ]
  },
  {
   "cell_type": "code",
   "execution_count": null,
   "metadata": {},
   "outputs": [],
   "source": []
  }
 ],
 "metadata": {
  "kernelspec": {
   "display_name": "Python 3",
   "language": "python",
   "name": "python3"
  },
  "language_info": {
   "codemirror_mode": {
    "name": "ipython",
    "version": 3
   },
   "file_extension": ".py",
   "mimetype": "text/x-python",
   "name": "python",
   "nbconvert_exporter": "python",
   "pygments_lexer": "ipython3",
   "version": "3.11.5"
  }
 },
 "nbformat": 4,
 "nbformat_minor": 2
}
