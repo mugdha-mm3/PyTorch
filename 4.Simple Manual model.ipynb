{
 "cells": [
  {
   "cell_type": "code",
   "execution_count": 15,
   "metadata": {},
   "outputs": [],
   "source": [
    "import torch\n",
    "import numpy as np"
   ]
  },
  {
   "cell_type": "code",
   "execution_count": 16,
   "metadata": {},
   "outputs": [],
   "source": [
    "X=np.array([1,2,3,4],dtype=np.float32)\n",
    "Y=np.array([2,4,6,8],dtype=np.float32) #Y=2X\n",
    "w=0.0\n",
    "#function is W*X"
   ]
  },
  {
   "cell_type": "code",
   "execution_count": 17,
   "metadata": {},
   "outputs": [],
   "source": [
    "#model prediction- MANUAL\n",
    "def forward(x):\n",
    "    return w*x"
   ]
  },
  {
   "cell_type": "code",
   "execution_count": 18,
   "metadata": {},
   "outputs": [],
   "source": [
    "#loss(MSE)-MANUAL\n",
    "def loss(y,y_predicted):\n",
    "    return ((y_predicted-y)**2).mean()"
   ]
  },
  {
   "cell_type": "code",
   "execution_count": 19,
   "metadata": {},
   "outputs": [],
   "source": [
    "#gradient-MANUAL\n",
    "def gradient(x,y,y_predicted):\n",
    "    return np.dot(2*x,y_predicted-y).mean()"
   ]
  },
  {
   "cell_type": "code",
   "execution_count": 20,
   "metadata": {},
   "outputs": [
    {
     "name": "stdout",
     "output_type": "stream",
     "text": [
      "Prediction before training: f(5)=0.000\n",
      "epoch 1: w=1.200, loss=30.00000000\n",
      "epoch 2: w=1.680, loss=4.79999924\n",
      "epoch 3: w=1.872, loss=0.76800019\n",
      "epoch 4: w=1.949, loss=0.12288000\n",
      "epoch 5: w=1.980, loss=0.01966083\n",
      "epoch 6: w=1.992, loss=0.00314574\n",
      "epoch 7: w=1.997, loss=0.00050331\n",
      "epoch 8: w=1.999, loss=0.00008053\n",
      "epoch 9: w=1.999, loss=0.00001288\n",
      "epoch 10: w=2.000, loss=0.00000206\n",
      "Prediction before training: f(5)=9.999\n"
     ]
    }
   ],
   "source": [
    "print(f'Prediction before training: f(5)={forward(5):.3f}') #expected:10\n",
    "#Training\n",
    "learning_rate=0.01\n",
    "n_iters=10\n",
    "for epoch in range(n_iters):\n",
    "    y_pred=forward(X) #prediction\n",
    "    l=loss(Y,y_pred) #loss\n",
    "    dw=gradient(X,Y,y_pred) #gradients\n",
    "    w=w-learning_rate*dw #update weights\n",
    "    print(f'epoch {epoch+1}: w={w:.3f}, loss={l:.8f}')\n",
    "print(f'Prediction before training: f(5)={forward(5):.3f}') #expected:10"
   ]
  }
 ],
 "metadata": {
  "kernelspec": {
   "display_name": "Python 3",
   "language": "python",
   "name": "python3"
  },
  "language_info": {
   "codemirror_mode": {
    "name": "ipython",
    "version": 3
   },
   "file_extension": ".py",
   "mimetype": "text/x-python",
   "name": "python",
   "nbconvert_exporter": "python",
   "pygments_lexer": "ipython3",
   "version": "3.11.5"
  }
 },
 "nbformat": 4,
 "nbformat_minor": 2
}
