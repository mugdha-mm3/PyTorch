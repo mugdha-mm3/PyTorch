{
 "cells": [
  {
   "cell_type": "code",
   "execution_count": 33,
   "metadata": {},
   "outputs": [],
   "source": [
    "import torch\n",
    "import torch.nn as nn"
   ]
  },
  {
   "cell_type": "code",
   "execution_count": 34,
   "metadata": {},
   "outputs": [],
   "source": [
    "X=torch.tensor([1,2,3,4],dtype=torch.float32)\n",
    "Y=torch.tensor([2,4,6,8],dtype=torch.float32) #Y=2X\n",
    "X=X.view(4,1)\n",
    "Y=Y.view(4,1)"
   ]
  },
  {
   "cell_type": "code",
   "execution_count": 35,
   "metadata": {},
   "outputs": [
    {
     "name": "stdout",
     "output_type": "stream",
     "text": [
      "4 1\n"
     ]
    }
   ],
   "source": [
    "n_samples,n_features=X.shape\n",
    "print(n_samples,n_features)"
   ]
  },
  {
   "cell_type": "code",
   "execution_count": 36,
   "metadata": {},
   "outputs": [],
   "source": [
    "model=nn.Linear(n_features,n_features) #1 input, 1 output"
   ]
  },
  {
   "cell_type": "code",
   "execution_count": 37,
   "metadata": {},
   "outputs": [],
   "source": [
    "X_test=torch.tensor([5],dtype=torch.float32)"
   ]
  },
  {
   "cell_type": "code",
   "execution_count": 38,
   "metadata": {},
   "outputs": [],
   "source": [
    "learning_rate=0.01\n",
    "n_iters=100"
   ]
  },
  {
   "cell_type": "code",
   "execution_count": 39,
   "metadata": {},
   "outputs": [],
   "source": [
    "loss=nn.MSELoss()\n",
    "optimizer=torch.optim.SGD(model.parameters(),lr=learning_rate) #stochastic gradient descent"
   ]
  },
  {
   "cell_type": "code",
   "execution_count": 40,
   "metadata": {},
   "outputs": [
    {
     "name": "stdout",
     "output_type": "stream",
     "text": [
      "Prediction before training: f(5)=[[-1.157698154449463], [-1.5558133125305176], [-1.9539284706115723], [-2.352043628692627]]\n",
      "epoch 1: w=-0.000, loss=52.81697083\n",
      "epoch 11: w=1.664, loss=1.36688721\n",
      "epoch 21: w=1.933, loss=0.03572864\n",
      "epoch 31: w=1.976, loss=0.00126708\n",
      "epoch 41: w=1.984, loss=0.00035551\n",
      "epoch 51: w=1.985, loss=0.00031314\n",
      "epoch 61: w=1.986, loss=0.00029435\n",
      "epoch 71: w=1.986, loss=0.00027720\n",
      "epoch 81: w=1.987, loss=0.00026107\n",
      "epoch 91: w=1.987, loss=0.00024587\n",
      "Prediction after training: f(5)=[[2.024570941925049], [4.011906147003174], [5.999241352081299], [7.986576557159424]]\n"
     ]
    }
   ],
   "source": [
    "print(f'Prediction before training: f(5)={model(X).tolist()}') #expected:10\n",
    "#Training\n",
    "for epoch in range(n_iters):\n",
    "    y_pred=model(X) #prediction\n",
    "    l=loss(Y,y_pred) #loss\n",
    "    l.backward() #gradient \n",
    "    optimizer.step() #update weights\n",
    "    optimizer.zero_grad() #zero gradient for next iteration\n",
    "    if epoch%10==0:\n",
    "        [w,b]=model.parameters()\n",
    "        print(f'epoch {epoch+1}: w={w[0][0].item():.3f}, loss={l:.8f}')\n",
    "print(f'Prediction after training: f(5)={model(X).tolist()}') #expected:10"
   ]
  },
  {
   "cell_type": "code",
   "execution_count": null,
   "metadata": {},
   "outputs": [],
   "source": []
  }
 ],
 "metadata": {
  "kernelspec": {
   "display_name": "Python 3",
   "language": "python",
   "name": "python3"
  },
  "language_info": {
   "codemirror_mode": {
    "name": "ipython",
    "version": 3
   },
   "file_extension": ".py",
   "mimetype": "text/x-python",
   "name": "python",
   "nbconvert_exporter": "python",
   "pygments_lexer": "ipython3",
   "version": "3.11.5"
  }
 },
 "nbformat": 4,
 "nbformat_minor": 2
}
