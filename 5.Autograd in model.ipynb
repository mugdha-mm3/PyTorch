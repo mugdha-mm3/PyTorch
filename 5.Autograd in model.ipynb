{
 "cells": [
  {
   "cell_type": "code",
   "execution_count": 14,
   "metadata": {},
   "outputs": [],
   "source": [
    "import torch"
   ]
  },
  {
   "cell_type": "code",
   "execution_count": 15,
   "metadata": {},
   "outputs": [],
   "source": [
    "X=torch.tensor([1,2,3,4],dtype=torch.float32)\n",
    "Y=torch.tensor([2,4,6,8],dtype=torch.float32) #Y=2X\n",
    "w=torch.tensor(0.0,dtype=torch.float32,requires_grad=True)\n",
    "#function is W*X"
   ]
  },
  {
   "cell_type": "code",
   "execution_count": 16,
   "metadata": {},
   "outputs": [],
   "source": [
    "#model prediction- MANUAL\n",
    "def forward(x):\n",
    "    return w*x"
   ]
  },
  {
   "cell_type": "code",
   "execution_count": 17,
   "metadata": {},
   "outputs": [],
   "source": [
    "#loss(MSE)-MANUAL\n",
    "def loss(y,y_predicted):\n",
    "    return ((y_predicted-y)**2).mean()"
   ]
  },
  {
   "cell_type": "code",
   "execution_count": 18,
   "metadata": {},
   "outputs": [
    {
     "name": "stdout",
     "output_type": "stream",
     "text": [
      "Prediction before training: f(5)=0.000\n",
      "epoch 1: w=0.300, loss=30.00000000\n",
      "epoch 11: w=1.665, loss=1.16278565\n",
      "epoch 21: w=1.934, loss=0.04506890\n",
      "epoch 31: w=1.987, loss=0.00174685\n",
      "epoch 41: w=1.997, loss=0.00006770\n",
      "epoch 51: w=1.999, loss=0.00000262\n",
      "epoch 61: w=2.000, loss=0.00000010\n",
      "epoch 71: w=2.000, loss=0.00000000\n",
      "epoch 81: w=2.000, loss=0.00000000\n",
      "epoch 91: w=2.000, loss=0.00000000\n",
      "Prediction before training: f(5)=10.000\n"
     ]
    }
   ],
   "source": [
    "print(f'Prediction before training: f(5)={forward(5):.3f}') #expected:10\n",
    "#Training\n",
    "learning_rate=0.01\n",
    "n_iters=100\n",
    "for epoch in range(n_iters):\n",
    "    y_pred=forward(X) #prediction\n",
    "    l=loss(Y,y_pred) #loss\n",
    "    l.backward() #gradient \n",
    "    with torch.no_grad():\n",
    "        w-=learning_rate*w.grad\n",
    "    w.grad.zero_() #zero gradient for next iteration\n",
    "    if epoch%10==0:\n",
    "        print(f'epoch {epoch+1}: w={w:.3f}, loss={l:.8f}')\n",
    "print(f'Prediction before training: f(5)={forward(5):.3f}') #expected:10"
   ]
  },
  {
   "cell_type": "code",
   "execution_count": null,
   "metadata": {},
   "outputs": [],
   "source": []
  }
 ],
 "metadata": {
  "kernelspec": {
   "display_name": "Python 3",
   "language": "python",
   "name": "python3"
  },
  "language_info": {
   "codemirror_mode": {
    "name": "ipython",
    "version": 3
   },
   "file_extension": ".py",
   "mimetype": "text/x-python",
   "name": "python",
   "nbconvert_exporter": "python",
   "pygments_lexer": "ipython3",
   "version": "3.11.5"
  }
 },
 "nbformat": 4,
 "nbformat_minor": 2
}
